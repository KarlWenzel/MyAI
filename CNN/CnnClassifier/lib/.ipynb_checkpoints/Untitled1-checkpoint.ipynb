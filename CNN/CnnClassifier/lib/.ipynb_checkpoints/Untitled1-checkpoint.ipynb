{
 "cells": [
  {
   "cell_type": "code",
   "execution_count": 4,
   "metadata": {},
   "outputs": [
    {
     "data": {
      "text/plain": [
       "'D:\\\\git\\\\MyAI\\\\CNN\\\\CnnClassifier\\\\lib'"
      ]
     },
     "execution_count": 4,
     "metadata": {},
     "output_type": "execute_result"
    }
   ],
   "source": [
    "import os\n",
    "os.getcwd()"
   ]
  },
  {
   "cell_type": "code",
   "execution_count": 28,
   "metadata": {},
   "outputs": [
    {
     "ename": "NameError",
     "evalue": "name 'SERVER' is not defined",
     "output_type": "error",
     "traceback": [
      "\u001b[1;31m---------------------------------------------------------------------------\u001b[0m",
      "\u001b[1;31mNameError\u001b[0m                                 Traceback (most recent call last)",
      "\u001b[1;32m<ipython-input-28-974dd0aca5ae>\u001b[0m in \u001b[0;36m<module>\u001b[1;34m()\u001b[0m\n\u001b[0;32m      1\u001b[0m \u001b[1;32mfrom\u001b[0m \u001b[0mDataService\u001b[0m \u001b[1;32mimport\u001b[0m \u001b[0mDataService\u001b[0m\u001b[1;33m\u001b[0m\u001b[0m\n\u001b[1;32m----> 2\u001b[1;33m \u001b[0mds\u001b[0m \u001b[1;33m=\u001b[0m \u001b[0mDataService\u001b[0m\u001b[1;33m(\u001b[0m\u001b[1;33m)\u001b[0m\u001b[1;33m\u001b[0m\u001b[0m\n\u001b[0m",
      "\u001b[1;32mD:\\git\\MyAI\\CNN\\CnnClassifier\\lib\\DataService.py\u001b[0m in \u001b[0;36m__init__\u001b[1;34m(self)\u001b[0m\n\u001b[0;32m     10\u001b[0m         \u001b[1;32mdef\u001b[0m \u001b[0m__init__\u001b[0m\u001b[1;33m(\u001b[0m\u001b[0mself\u001b[0m\u001b[1;33m)\u001b[0m\u001b[1;33m:\u001b[0m\u001b[1;33m\u001b[0m\u001b[0m\n\u001b[0;32m     11\u001b[0m                 \u001b[0mself\u001b[0m\u001b[1;33m.\u001b[0m\u001b[0msetConnStr\u001b[0m\u001b[1;33m(\u001b[0m\u001b[1;33m)\u001b[0m\u001b[1;33m\u001b[0m\u001b[0m\n\u001b[1;32m---> 12\u001b[1;33m \u001b[1;33m\u001b[0m\u001b[0m\n\u001b[0m\u001b[0;32m     13\u001b[0m         \u001b[1;32mdef\u001b[0m \u001b[0msetConnStr\u001b[0m\u001b[1;33m(\u001b[0m\u001b[0mself\u001b[0m\u001b[1;33m)\u001b[0m\u001b[1;33m:\u001b[0m\u001b[1;33m\u001b[0m\u001b[0m\n\u001b[0;32m     14\u001b[0m                 \u001b[0mself\u001b[0m\u001b[1;33m.\u001b[0m\u001b[0mconnStr\u001b[0m \u001b[1;33m=\u001b[0m \u001b[1;34m\"DRIVER={SQL Server};SERVER=\"\u001b[0m \u001b[1;33m+\u001b[0m \u001b[0mself\u001b[0m\u001b[1;33m.\u001b[0m\u001b[0mSERVER\u001b[0m \u001b[1;33m+\u001b[0m \u001b[1;34m\";DATABASE=\"\u001b[0m \u001b[1;33m+\u001b[0m \u001b[0mself\u001b[0m\u001b[1;33m.\u001b[0m\u001b[0mDATABASE\u001b[0m\u001b[1;33m\u001b[0m\u001b[0m\n",
      "\u001b[1;32mD:\\git\\MyAI\\CNN\\CnnClassifier\\lib\\DataService.py\u001b[0m in \u001b[0;36msetConnStr\u001b[1;34m(self)\u001b[0m\n\u001b[0;32m     13\u001b[0m         \u001b[1;32mdef\u001b[0m \u001b[0msetConnStr\u001b[0m\u001b[1;33m(\u001b[0m\u001b[0mself\u001b[0m\u001b[1;33m)\u001b[0m\u001b[1;33m:\u001b[0m\u001b[1;33m\u001b[0m\u001b[0m\n\u001b[0;32m     14\u001b[0m                 \u001b[0mself\u001b[0m\u001b[1;33m.\u001b[0m\u001b[0mconnStr\u001b[0m \u001b[1;33m=\u001b[0m \u001b[1;34m\"DRIVER={SQL Server};SERVER=\"\u001b[0m \u001b[1;33m+\u001b[0m \u001b[0mself\u001b[0m\u001b[1;33m.\u001b[0m\u001b[0mSERVER\u001b[0m \u001b[1;33m+\u001b[0m \u001b[1;34m\";DATABASE=\"\u001b[0m \u001b[1;33m+\u001b[0m \u001b[0mself\u001b[0m\u001b[1;33m.\u001b[0m\u001b[0mDATABASE\u001b[0m\u001b[1;33m\u001b[0m\u001b[0m\n\u001b[1;32m---> 15\u001b[1;33m                 \u001b[1;32mif\u001b[0m \u001b[0mself\u001b[0m\u001b[1;33m.\u001b[0m\u001b[0mINTEGRATED_SECURITY\u001b[0m\u001b[1;33m:\u001b[0m\u001b[1;33m\u001b[0m\u001b[0m\n\u001b[0m\u001b[0;32m     16\u001b[0m                         \u001b[0mself\u001b[0m\u001b[1;33m.\u001b[0m\u001b[0mconnStr\u001b[0m \u001b[1;33m=\u001b[0m \u001b[0mself\u001b[0m\u001b[1;33m.\u001b[0m\u001b[0mconnStr\u001b[0m \u001b[1;33m+\u001b[0m \u001b[1;34m\";Trusted_Connection=yes\"\u001b[0m\u001b[1;33m\u001b[0m\u001b[0m\n\u001b[0;32m     17\u001b[0m                 \u001b[1;32melse\u001b[0m\u001b[1;33m:\u001b[0m\u001b[1;33m\u001b[0m\u001b[0m\n",
      "\u001b[1;31mNameError\u001b[0m: name 'SERVER' is not defined"
     ]
    }
   ],
   "source": [
    "from . import DataService\n",
    "ds = DataService()"
   ]
  },
  {
   "cell_type": "code",
   "execution_count": 27,
   "metadata": {
    "collapsed": true
   },
   "outputs": [],
   "source": [
    "import pyodbc\n",
    "\n",
    "class DataService:\n",
    "\tSERVER = \"(localdb)\\\\mssqllocaldb\" \n",
    "\tDATABASE = \"CnnData\"\n",
    "\tINTEGRATED_SECURITY = True\n",
    "\tUSERNAME = \"\" \n",
    "\tPASSWORD = \"\" \n",
    "\t\n",
    "\tdef __init__(self):\n",
    "\t\tself.setConnStr()\n",
    "\t\t\n",
    "\tdef setConnStr(self):\n",
    "\t\tself.connStr = \"DRIVER={SQL Server};SERVER=\" + self.SERVER + \";DATABASE=\" + self.DATABASE\n",
    "\t\tif self.INTEGRATED_SECURITY:\n",
    "\t\t\tself.connStr = self.connStr + \";Trusted_Connection=yes\"\n",
    "\t\telse:\n",
    "\t\t\tself.connStr = self.connStr + \";UID=\" + self.USERNAME + \";PWD=\" + self.PASSWORD\n",
    "\t\t\t\n",
    "\tdef getLabels(self, labelCategory=\"PageSequence\"):\n",
    "\t\tlabels = []\n",
    "\t\tconn = pyodbc.connect(self.connStr)\n",
    "\t\tcursor = conn.cursor()\n",
    "\t\ttry:\n",
    "\t\t\tsql = \"SELECT LabelName FROM Labels WHERE CategoryName=?\"\n",
    "\t\t\tcursor.execute(sql, labelCategory)\n",
    "\t\t\trow = cursor.fetchone()\n",
    "\t\t\twhile row:\n",
    "\t\t\t\tlabels.append(row[0])\n",
    "\t\t\t\trow = cursor.fetchone()\n",
    "\t\texcept:\n",
    "\t\t\tprint(\"Error while attempting to read from database\")\n",
    "\t\tfinally:\n",
    "\t\t\tconn.close()\n",
    "\t\treturn labels\n",
    "    \n",
    "ds = DataService()\n"
   ]
  },
  {
   "cell_type": "code",
   "execution_count": null,
   "metadata": {
    "collapsed": true
   },
   "outputs": [],
   "source": []
  }
 ],
 "metadata": {
  "kernelspec": {
   "display_name": "Python 3",
   "language": "python",
   "name": "python3"
  },
  "language_info": {
   "codemirror_mode": {
    "name": "ipython",
    "version": 3
   },
   "file_extension": ".py",
   "mimetype": "text/x-python",
   "name": "python",
   "nbconvert_exporter": "python",
   "pygments_lexer": "ipython3",
   "version": "3.6.2"
  }
 },
 "nbformat": 4,
 "nbformat_minor": 2
}
