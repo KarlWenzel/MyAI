{
 "cells": [
  {
   "cell_type": "code",
   "execution_count": 1,
   "metadata": {},
   "outputs": [
    {
     "name": "stdout",
     "output_type": "stream",
     "text": [
      "(localdb)\\mssqllocaldb\n",
      "<DataService.DataService object at 0x0000000004D27D30>\n",
      "FirstPage\n",
      "NotFirstPage\n"
     ]
    }
   ],
   "source": [
    "from DataService import DataService\n",
    "ds = DataService()\n"
   ]
  },
  {
   "cell_type": "code",
   "execution_count": 15,
   "metadata": {},
   "outputs": [
    {
     "name": "stdout",
     "output_type": "stream",
     "text": [
      "Testing CnnDbService object\n",
      "\n",
      "getLabelCategories()\n",
      "PageSequence\n",
      "\n",
      "getLabels()\n",
      "FirstPage\n",
      "NotFirstPage\n",
      "\n",
      "Testing Complete\n"
     ]
    }
   ],
   "source": [
    "%run CnnDbService.py"
   ]
  },
  {
   "cell_type": "code",
   "execution_count": 14,
   "metadata": {},
   "outputs": [
    {
     "name": "stdout",
     "output_type": "stream",
     "text": [
      "Testing FileService object\n",
      "\n",
      "Default Root Directory: C:\\Users\\karl\n",
      "Testing Complete\n"
     ]
    }
   ],
   "source": [
    "%run FileService.py"
   ]
  },
  {
   "cell_type": "code",
   "execution_count": 31,
   "metadata": {},
   "outputs": [
    {
     "name": "stdout",
     "output_type": "stream",
     "text": [
      "Testing DataService object\n",
      "{'upstreamRoot': '\\\\\\\\192.168.0.105\\\\PictureShare\\\\Document Photos\\\\', 'localRoot': 'D:\\\\data\\\\CnnData'}\n",
      "upstreamRoot: \\\\192.168.0.105\\PictureShare\\Document Photos\\\n",
      "localRoot: D:\\data\\CnnData\n",
      "Testing Complete\n"
     ]
    }
   ],
   "source": [
    "%run DataService.py"
   ]
  },
  {
   "cell_type": "code",
   "execution_count": null,
   "metadata": {
    "collapsed": true
   },
   "outputs": [],
   "source": []
  },
  {
   "cell_type": "code",
   "execution_count": null,
   "metadata": {
    "collapsed": true
   },
   "outputs": [],
   "source": []
  }
 ],
 "metadata": {
  "kernelspec": {
   "display_name": "Python 3",
   "language": "python",
   "name": "python3"
  },
  "language_info": {
   "codemirror_mode": {
    "name": "ipython",
    "version": 3
   },
   "file_extension": ".py",
   "mimetype": "text/x-python",
   "name": "python",
   "nbconvert_exporter": "python",
   "pygments_lexer": "ipython3",
   "version": "3.6.2"
  }
 },
 "nbformat": 4,
 "nbformat_minor": 2
}
